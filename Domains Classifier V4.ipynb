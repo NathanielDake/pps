{
 "cells": [
  {
   "cell_type": "code",
   "execution_count": 56,
   "metadata": {
    "collapsed": true
   },
   "outputs": [],
   "source": [
    "# standard\n",
    "import pandas as pd\n",
    "import numpy as np\n",
    "\n",
    "# visualization\n",
    "import matplotlib.pyplot as plt\n",
    "import seaborn as sns\n",
    "%matplotlib inline"
   ]
  },
  {
   "cell_type": "code",
   "execution_count": 57,
   "metadata": {
    "collapsed": true
   },
   "outputs": [],
   "source": [
    "analystScoredDomains = pd.read_csv('PPSDomains.csv')"
   ]
  },
  {
   "cell_type": "code",
   "execution_count": 58,
   "metadata": {},
   "outputs": [
    {
     "data": {
      "text/html": [
       "<div>\n",
       "<style scoped>\n",
       "    .dataframe tbody tr th:only-of-type {\n",
       "        vertical-align: middle;\n",
       "    }\n",
       "\n",
       "    .dataframe tbody tr th {\n",
       "        vertical-align: top;\n",
       "    }\n",
       "\n",
       "    .dataframe thead th {\n",
       "        text-align: right;\n",
       "    }\n",
       "</style>\n",
       "<table border=\"1\" class=\"dataframe\">\n",
       "  <thead>\n",
       "    <tr style=\"text-align: right;\">\n",
       "      <th></th>\n",
       "      <th>domain</th>\n",
       "      <th>analystResult</th>\n",
       "      <th>BellonaStatus</th>\n",
       "      <th>medianLoadTime</th>\n",
       "      <th>speedPercentile</th>\n",
       "      <th>trafficDataRank</th>\n",
       "      <th>trafficDataReachRank</th>\n",
       "      <th>reachPerMillionValue</th>\n",
       "      <th>pageViewsPerMillionValue</th>\n",
       "      <th>pageViewsRankValue</th>\n",
       "      <th>usageStatisticRankValue</th>\n",
       "      <th>reachRankValue</th>\n",
       "      <th>historyDataScore</th>\n",
       "      <th>domainAge</th>\n",
       "      <th>registrantContactCountry</th>\n",
       "      <th>privateRegistrationStatus</th>\n",
       "    </tr>\n",
       "  </thead>\n",
       "  <tbody>\n",
       "    <tr>\n",
       "      <th>0</th>\n",
       "      <td>07449m.com</td>\n",
       "      <td>NaN</td>\n",
       "      <td>NaN</td>\n",
       "      <td>NaN</td>\n",
       "      <td>NaN</td>\n",
       "      <td>NaN</td>\n",
       "      <td>NaN</td>\n",
       "      <td>NaN</td>\n",
       "      <td>NaN</td>\n",
       "      <td>NaN</td>\n",
       "      <td>NaN</td>\n",
       "      <td>NaN</td>\n",
       "      <td>3</td>\n",
       "      <td>68.0</td>\n",
       "      <td>UNITED STATES</td>\n",
       "      <td>{\"registrantName\":\"Domain Administrator\",\"simi...</td>\n",
       "    </tr>\n",
       "    <tr>\n",
       "      <th>1</th>\n",
       "      <td>1037kissfm.com</td>\n",
       "      <td>NaN</td>\n",
       "      <td>NaN</td>\n",
       "      <td>NaN</td>\n",
       "      <td>NaN</td>\n",
       "      <td>NaN</td>\n",
       "      <td>NaN</td>\n",
       "      <td>NaN</td>\n",
       "      <td>NaN</td>\n",
       "      <td>NaN</td>\n",
       "      <td>NaN</td>\n",
       "      <td>NaN</td>\n",
       "      <td>3</td>\n",
       "      <td>6955.0</td>\n",
       "      <td>UNITED STATES</td>\n",
       "      <td>NaN</td>\n",
       "    </tr>\n",
       "    <tr>\n",
       "      <th>2</th>\n",
       "      <td>1041kqth.com</td>\n",
       "      <td>NaN</td>\n",
       "      <td>TODO</td>\n",
       "      <td>7687.0</td>\n",
       "      <td>1.0</td>\n",
       "      <td>1941173.0</td>\n",
       "      <td>1872730.0</td>\n",
       "      <td>0.2</td>\n",
       "      <td>0.01</td>\n",
       "      <td>2322074.0</td>\n",
       "      <td>2025813.0</td>\n",
       "      <td>2060156.0</td>\n",
       "      <td>3</td>\n",
       "      <td>1251.0</td>\n",
       "      <td>UNITED STATES</td>\n",
       "      <td>NaN</td>\n",
       "    </tr>\n",
       "    <tr>\n",
       "      <th>3</th>\n",
       "      <td>1049maxcountry.com</td>\n",
       "      <td>NaN</td>\n",
       "      <td>NaN</td>\n",
       "      <td>NaN</td>\n",
       "      <td>NaN</td>\n",
       "      <td>NaN</td>\n",
       "      <td>NaN</td>\n",
       "      <td>NaN</td>\n",
       "      <td>NaN</td>\n",
       "      <td>NaN</td>\n",
       "      <td>NaN</td>\n",
       "      <td>NaN</td>\n",
       "      <td>3</td>\n",
       "      <td>978.0</td>\n",
       "      <td>UNITED STATES</td>\n",
       "      <td>NaN</td>\n",
       "    </tr>\n",
       "    <tr>\n",
       "      <th>4</th>\n",
       "      <td>1053thebuzz.com</td>\n",
       "      <td>NaN</td>\n",
       "      <td>NaN</td>\n",
       "      <td>NaN</td>\n",
       "      <td>NaN</td>\n",
       "      <td>NaN</td>\n",
       "      <td>NaN</td>\n",
       "      <td>NaN</td>\n",
       "      <td>NaN</td>\n",
       "      <td>NaN</td>\n",
       "      <td>NaN</td>\n",
       "      <td>NaN</td>\n",
       "      <td>3</td>\n",
       "      <td>6221.0</td>\n",
       "      <td>UNITED STATES</td>\n",
       "      <td>NaN</td>\n",
       "    </tr>\n",
       "  </tbody>\n",
       "</table>\n",
       "</div>"
      ],
      "text/plain": [
       "               domain analystResult BellonaStatus  medianLoadTime  \\\n",
       "0          07449m.com           NaN           NaN             NaN   \n",
       "1      1037kissfm.com           NaN           NaN             NaN   \n",
       "2        1041kqth.com           NaN          TODO          7687.0   \n",
       "3  1049maxcountry.com           NaN           NaN             NaN   \n",
       "4     1053thebuzz.com           NaN           NaN             NaN   \n",
       "\n",
       "   speedPercentile  trafficDataRank  trafficDataReachRank  \\\n",
       "0              NaN              NaN                   NaN   \n",
       "1              NaN              NaN                   NaN   \n",
       "2              1.0        1941173.0             1872730.0   \n",
       "3              NaN              NaN                   NaN   \n",
       "4              NaN              NaN                   NaN   \n",
       "\n",
       "  reachPerMillionValue pageViewsPerMillionValue  pageViewsRankValue  \\\n",
       "0                  NaN                      NaN                 NaN   \n",
       "1                  NaN                      NaN                 NaN   \n",
       "2                  0.2                     0.01           2322074.0   \n",
       "3                  NaN                      NaN                 NaN   \n",
       "4                  NaN                      NaN                 NaN   \n",
       "\n",
       "   usageStatisticRankValue  reachRankValue  historyDataScore  domainAge  \\\n",
       "0                      NaN             NaN                 3       68.0   \n",
       "1                      NaN             NaN                 3     6955.0   \n",
       "2                2025813.0       2060156.0                 3     1251.0   \n",
       "3                      NaN             NaN                 3      978.0   \n",
       "4                      NaN             NaN                 3     6221.0   \n",
       "\n",
       "  registrantContactCountry                          privateRegistrationStatus  \n",
       "0            UNITED STATES  {\"registrantName\":\"Domain Administrator\",\"simi...  \n",
       "1            UNITED STATES                                                NaN  \n",
       "2            UNITED STATES                                                NaN  \n",
       "3            UNITED STATES                                                NaN  \n",
       "4            UNITED STATES                                                NaN  "
      ]
     },
     "execution_count": 58,
     "metadata": {},
     "output_type": "execute_result"
    }
   ],
   "source": [
    "analystScoredDomains.head()"
   ]
  },
  {
   "cell_type": "code",
   "execution_count": 59,
   "metadata": {},
   "outputs": [],
   "source": [
    "# preprocess\n",
    "# get rid of unecessary features\n",
    "analystScoredDomains = analystScoredDomains.drop(['historyDataScore', 'medianLoadTime','speedPercentile', 'trafficDataReachRank', \n",
    "                        'reachPerMillionValue', 'pageViewsRankValue','pageViewsPerMillionValue', \n",
    "                        'usageStatisticRankValue', 'reachRankValue', 'BellonaStatus', 'trafficDataRank'], axis=1)\n",
    "\n",
    "# get rid of unlabeled examples\n",
    "analystScoredDomains = analystScoredDomains[pd.notnull(analystScoredDomains['analystResult'])] \n",
    "\n",
    "# map private registration status \n",
    "analystScoredDomains['privateRegistrationStatus'] = analystScoredDomains['privateRegistrationStatus'].replace(np.nan, 0)\n",
    "analystScoredDomains['privateRegistrationStatus'] = analystScoredDomains['privateRegistrationStatus'].map(lambda x: 1 if x != 0 else 0)\n",
    "\n",
    "# map registrant contact country\n",
    "analystScoredDomains['registrantContactCountry'] = analystScoredDomains['registrantContactCountry'].map(lambda x: 1 if x == 'UNITED STATES' else 0)\n",
    "\n",
    "# normalize domain age\n",
    "# analystScoredDomains['domainAge'] = (analystScoredDomains['domainAge'] - analystScoredDomains['domainAge'].mean())/(analystScoredDomains['domainAge'].std())\n",
    "\n",
    "# map analyst result to 0 or 1 \n",
    "analystScoredDomains = analystScoredDomains[pd.notnull(analystScoredDomains['analystResult'])] \n",
    "ar = {'TRUE': 1, 'FALSE': 0, 'TRUE ': 1, 'FALSE ': 0}\n",
    "analystScoredDomains['analystResult'] = analystScoredDomains['analystResult'].map(ar)"
   ]
  },
  {
   "cell_type": "code",
   "execution_count": 60,
   "metadata": {},
   "outputs": [
    {
     "data": {
      "text/plain": [
       "<matplotlib.axes._subplots.AxesSubplot at 0x116c8ccc0>"
      ]
     },
     "execution_count": 60,
     "metadata": {},
     "output_type": "execute_result"
    },
    {
     "data": {
      "image/png": "[encoded data removed]",
      "text/plain": [
       "<matplotlib.figure.Figure at 0x118860518>"
      ]
     },
     "metadata": {},
     "output_type": "display_data"
    }
   ],
   "source": [
    "plt.figure(figsize=(12,7))\n",
    "sns.set(font_scale=2)\n",
    "sns.heatmap(analystScoredDomains.isnull(), yticklabels=False, cbar=False, cmap='viridis')"
   ]
  },
  {
   "cell_type": "code",
   "execution_count": 61,
   "metadata": {},
   "outputs": [
    {
     "data": {
      "text/html": [
       "<div>\n",
       "<style scoped>\n",
       "    .dataframe tbody tr th:only-of-type {\n",
       "        vertical-align: middle;\n",
       "    }\n",
       "\n",
       "    .dataframe tbody tr th {\n",
       "        vertical-align: top;\n",
       "    }\n",
       "\n",
       "    .dataframe thead th {\n",
       "        text-align: right;\n",
       "    }\n",
       "</style>\n",
       "<table border=\"1\" class=\"dataframe\">\n",
       "  <thead>\n",
       "    <tr style=\"text-align: right;\">\n",
       "      <th></th>\n",
       "      <th>domain</th>\n",
       "      <th>analystResult</th>\n",
       "      <th>domainAge</th>\n",
       "      <th>registrantContactCountry</th>\n",
       "      <th>privateRegistrationStatus</th>\n",
       "    </tr>\n",
       "  </thead>\n",
       "  <tbody>\n",
       "    <tr>\n",
       "      <th>10</th>\n",
       "      <td>10thousandcouples.com</td>\n",
       "      <td>0</td>\n",
       "      <td>3060.0</td>\n",
       "      <td>0</td>\n",
       "      <td>0</td>\n",
       "    </tr>\n",
       "    <tr>\n",
       "      <th>11</th>\n",
       "      <td>1170kfaq.com</td>\n",
       "      <td>0</td>\n",
       "      <td>5566.0</td>\n",
       "      <td>1</td>\n",
       "      <td>0</td>\n",
       "    </tr>\n",
       "    <tr>\n",
       "      <th>12</th>\n",
       "      <td>11alive.com</td>\n",
       "      <td>0</td>\n",
       "      <td>7376.0</td>\n",
       "      <td>1</td>\n",
       "      <td>0</td>\n",
       "    </tr>\n",
       "    <tr>\n",
       "      <th>13</th>\n",
       "      <td>120gdyiyuan.com</td>\n",
       "      <td>0</td>\n",
       "      <td>9.0</td>\n",
       "      <td>1</td>\n",
       "      <td>0</td>\n",
       "    </tr>\n",
       "    <tr>\n",
       "      <th>14</th>\n",
       "      <td>12news.com</td>\n",
       "      <td>0</td>\n",
       "      <td>7122.0</td>\n",
       "      <td>1</td>\n",
       "      <td>0</td>\n",
       "    </tr>\n",
       "  </tbody>\n",
       "</table>\n",
       "</div>"
      ],
      "text/plain": [
       "                   domain  analystResult  domainAge  registrantContactCountry  \\\n",
       "10  10thousandcouples.com              0     3060.0                         0   \n",
       "11           1170kfaq.com              0     5566.0                         1   \n",
       "12            11alive.com              0     7376.0                         1   \n",
       "13        120gdyiyuan.com              0        9.0                         1   \n",
       "14             12news.com              0     7122.0                         1   \n",
       "\n",
       "    privateRegistrationStatus  \n",
       "10                          0  \n",
       "11                          0  \n",
       "12                          0  \n",
       "13                          0  \n",
       "14                          0  "
      ]
     },
     "execution_count": 61,
     "metadata": {},
     "output_type": "execute_result"
    }
   ],
   "source": [
    "analystScoredDomains.head()"
   ]
  },
  {
   "cell_type": "markdown",
   "metadata": {},
   "source": [
    "# NLP Exploration\n",
    "What exactly is the goal of this exploration? \n",
    "* we have a set of domain names that currently aren't being utilized at all\n",
    "* if we segment out the specific words and try to perform something similar to a sentiment analysis, we may be able to extract a stronger signal and lead to a higher classification rate\n",
    "\n",
    "Things to consider:\n",
    "* will want to preprocess: parse off the .com, \n",
    "* may want to get rid of any numbers \n",
    "* may also want to consider removing the number from the string, but having a boolean \"domain_name_contains_number\" set to true or false\n",
    "\n",
    "Things to note:\n",
    "* this is preliminary and is just the first step in this process"
   ]
  },
  {
   "cell_type": "markdown",
   "metadata": {},
   "source": [
    "### Start with our imports"
   ]
  },
  {
   "cell_type": "code",
   "execution_count": 97,
   "metadata": {},
   "outputs": [],
   "source": [
    "import nltk\n",
    "from nltk.stem import WordNetLemmatizer\n",
    "from wordsegment import load, segment, UNIGRAMS\n",
    "load() "
   ]
  },
  {
   "cell_type": "markdown",
   "metadata": {},
   "source": [
    "When we import segment and UNIGRAMS we gain access to the segment method:\n",
    "> `segment('10thousandcouples.com') -> ['10', 'thousand', 'couples', 'com']`\n",
    "\n",
    "And the UNIGRAMS method:\n",
    "> `UNIGRAMS['hi'] // 67566273.0`"
   ]
  },
  {
   "cell_type": "markdown",
   "metadata": {},
   "source": [
    "### Class imbalance\n",
    "There are more valuable than non-valuable domains in our dataset, so we are going to shuffle the positive domains and then cut off any extra that we may have so that they are both the same size."
   ]
  },
  {
   "cell_type": "code",
   "execution_count": 112,
   "metadata": {},
   "outputs": [],
   "source": [
    "from sklearn.utils import shuffle\n",
    "\n",
    "# get valuable domains and then shuffle them\n",
    "valuableDomains = analystScoredDomains[analystScoredDomains['analystResult'] == 1]\n",
    "valuableDomains = shuffle(valuableDomains)\n",
    "\n",
    "# get non valuable domains \n",
    "nonValuableDomains = analystScoredDomains[analystScoredDomains['analystResult'] == 0]\n",
    "\n",
    "# cut off any extra valuable domains so that there are the same number as non valuable domains\n",
    "valuableDomains = valuableDomains[:nonValuableDomains.shape[0]]\n",
    "\n",
    "# assert to make sure that the valuable and nonvaluable domains are now the same size\n",
    "assert(nonValuableDomains.shape == valuableDomains.shape)"
   ]
  },
  {
   "cell_type": "markdown",
   "metadata": {},
   "source": [
    "### Tokenizer Function\n",
    "Lets now create a tokenizer function that can be used on our specific reviews. "
   ]
  },
  {
   "cell_type": "code",
   "execution_count": 70,
   "metadata": {},
   "outputs": [],
   "source": [
    "wordnet_lemmatizer = WordNetLemmatizer()                           # this turns words into their base form \n",
    "stopwords = set(w.rstrip() for w in open('stopwords.txt'))         # grab stop words \n",
    "\n",
    "def my_tokenizer(s):\n",
    "    s = s.lower()\n",
    "    s = s.split('.')[0]                                            # split at . and remove .com\n",
    "    tokens = segment(s)                                            # essentially string.split()\n",
    "    tokens = [t for t in tokens if len(t) > 2]                     # get rid of short words\n",
    "    tokens = [wordnet_lemmatizer.lemmatize(t) for t in tokens]     # get words to base form\n",
    "    tokens = [t for t in tokens if t not in stopwords]\n",
    "    return tokens"
   ]
  },
  {
   "cell_type": "code",
   "execution_count": 87,
   "metadata": {},
   "outputs": [],
   "source": [
    "# leaving off needing to index each word\n",
    "# nlpDomains = analystScoredDomains[['domain', 'analystResult']]\n",
    "# domainNames = nlpDomains['domain'].tolist()\n",
    "\n",
    "http://www.grantjenks.com/docs/wordsegment/#\n",
    "    \n",
    "http://www.nltk.org/howto/sentiment.html"
   ]
  },
  {
   "cell_type": "code",
   "execution_count": null,
   "metadata": {},
   "outputs": [],
   "source": []
  },
  {
   "cell_type": "code",
   "execution_count": null,
   "metadata": {},
   "outputs": [],
   "source": []
  },
  {
   "cell_type": "code",
   "execution_count": null,
   "metadata": {},
   "outputs": [],
   "source": []
  },
  {
   "cell_type": "code",
   "execution_count": null,
   "metadata": {},
   "outputs": [],
   "source": []
  },
  {
   "cell_type": "code",
   "execution_count": null,
   "metadata": {
    "collapsed": true
   },
   "outputs": [],
   "source": []
  }
 ],
 "metadata": {
  "kernelspec": {
   "display_name": "Python 3",
   "language": "python",
   "name": "python3"
  },
  "language_info": {
   "codemirror_mode": {
    "name": "ipython",
    "version": 3
   },
   "file_extension": ".py",
   "mimetype": "text/x-python",
   "name": "python",
   "nbconvert_exporter": "python",
   "pygments_lexer": "ipython3",
   "version": "3.6.1"
  }
 },
 "nbformat": 4,
 "nbformat_minor": 2
}
